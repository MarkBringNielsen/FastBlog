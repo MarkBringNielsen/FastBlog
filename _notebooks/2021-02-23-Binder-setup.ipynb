{
 "cells": [
  {
   "cell_type": "markdown",
   "metadata": {},
   "source": [
    "# \"My Title\"\n",
    "> \"Awesome summary\"\n",
    "\n",
    "- comments: true\n",
    "- author: Mark Bring-Nielsen\n",
    "- categories: [fastpages, jupyter]"
   ]
  },
  {
   "cell_type": "markdown",
   "metadata": {},
   "source": [
    "# Getting binder to work with fast.ai\n",
    "These are my tips that helped me get it up and running. Firstly, I need to state that I mostly just followed [this](https://github.com/butchland/fastai-binder-app-template) guide by Butch Landingin. I did however meet a couple of minor hickups and that is what I'm going to explain how to fix. Secondly, I did these things on Paperspace so I cannot speak to how my tips work on Colab. So here are my tips:\n",
    "\n",
    "When you come across the part where you set up git on paperspace meaning this part:\n",
    " * `git config --global user.name \"<Your name>\"`\n",
    " * `git config --global user.email \"<email@address>\"`\n",
    " \n",
    "I absolutely recommend just doing that right away.\n",
    "\n",
    "When you get to installing git-lfs just follow the instructions for Ubuntu/Debian except that you do not have sudo rights on paperspace so just leave the sudo out of the commands.\n",
    "\n",
    "Next in step 7 before running the git commands change to the directory of your git repo:\n",
    "```\n",
    "%cd <your-copy-of-fastai-binder-app-template>\n",
    "```\n",
    "\n",
    "And lastly when setting up the binder remember to get these two things right.\n",
    "- Set the path to an URL path at the dropdown next to \"Launch\"\n",
    "- Have that path be /voila/render/your-notebook.ipynb\n",
    "\n",
    "\n",
    "![](https://raw.githubusercontent.com/markbringnielsen/binder_test/master/images/binder.PNG)"
   ]
  },
  {
   "cell_type": "code",
   "execution_count": null,
   "metadata": {},
   "outputs": [],
   "source": []
  }
 ],
 "metadata": {
  "kernelspec": {
   "display_name": "Python 3",
   "language": "python",
   "name": "python3"
  },
  "language_info": {
   "codemirror_mode": {
    "name": "ipython",
    "version": 3
   },
   "file_extension": ".py",
   "mimetype": "text/x-python",
   "name": "python",
   "nbconvert_exporter": "python",
   "pygments_lexer": "ipython3",
   "version": "3.7.6"
  }
 },
 "nbformat": 4,
 "nbformat_minor": 4
}
